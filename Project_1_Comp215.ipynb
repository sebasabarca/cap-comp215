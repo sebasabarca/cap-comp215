{
  "nbformat": 4,
  "nbformat_minor": 0,
  "metadata": {
    "colab": {
      "provenance": [],
      "authorship_tag": "ABX9TyMntCZoEcvCIGzVysdm3Vo8",
      "include_colab_link": true
    },
    "kernelspec": {
      "name": "python3",
      "display_name": "Python 3"
    },
    "language_info": {
      "name": "python"
    }
  },
  "cells": [
    {
      "cell_type": "markdown",
      "metadata": {
        "id": "view-in-github",
        "colab_type": "text"
      },
      "source": [
        "<a href=\"https://colab.research.google.com/github/sebasabarca/cap-comp215/blob/main/Project_1_Comp215.ipynb\" target=\"_parent\"><img src=\"https://colab.research.google.com/assets/colab-badge.svg\" alt=\"Open In Colab\"/></a>"
      ]
    },
    {
      "cell_type": "markdown",
      "source": [
        "#Comp 215 - Project 1 - Predictive text\n",
        "This program is a simple predictive text system that generates a random sentence based on the information in wikipedia from the topic provided by the user and the first two words of a sentence.\n",
        "\n",
        "(In case you find any difficulties finding the words and the number of words that works, you can use 'Lebron_james' as teh topic, 'he won' as the first 2 words and 15 as the length of the )\n",
        "\n",
        "Author:  Sebastian Homero Abarca  \n",
        "\n",
        "Date:  03/03/24"
      ],
      "metadata": {
        "id": "IUMiAq04mal0"
      }
    },
    {
      "cell_type": "code",
      "execution_count": 1,
      "metadata": {
        "id": "bOn8KWMGUTSY"
      },
      "outputs": [],
      "source": [
        "import re\n",
        "import random\n",
        "import requests\n",
        "from bs4 import BeautifulSoup\n",
        "\n"
      ]
    },
    {
      "cell_type": "markdown",
      "source": [
        "## The predictive dictionary\n",
        "The basic idea in this predictive test is a dictionary. This dictionary has as key 2-tuple of strings of words and as values a list with the posible next word. Something like this ('I' 'love') : 'pizza', 'sushi'. With this dictionary we could lookup the next word based an the first two words and generate a sentence. Now a function is require to generate this dictionary given a string of words of any length. The function should iterate through the string and generate the word pair as keys and the next word as a value, then it should move one word and repeat the process until it registers the last word of the string."
      ],
      "metadata": {
        "id": "-l-ncbVDoUDQ"
      }
    },
    {
      "cell_type": "code",
      "source": [
        "def get_predictions_dict(text):\n",
        "    \"\"\"Given a string of any size, returns a dictionary with 2-tuple of strings keys with a list of strings value.\n",
        "    These keys are created by a slicing operator to match two words, as the keys, with the third word as the value in the dict.\"\"\"\n",
        "\n",
        "    word_dict = dict()\n",
        "    words = re.sub(r'[^\\w\\s\\']', '', text).lower().split() # Learned how to use re.sub with chat gpt\n",
        "\n",
        "    for i in range(len(words)):\n",
        "        if i == len(words) - 2:\n",
        "            break\n",
        "        else:\n",
        "            key = (words[i], words[i+1])\n",
        "            value = words[i+2]\n",
        "            if key in word_dict and  word_dict[key] != [value]:\n",
        "                word_dict[key].append(value)\n",
        "            else:\n",
        "                word_dict[key] = [value]\n",
        "\n",
        "    return word_dict\n",
        "\n"
      ],
      "metadata": {
        "id": "1KFsVXrXoYA9"
      },
      "execution_count": null,
      "outputs": []
    },
    {
      "cell_type": "markdown",
      "source": [
        "## Unit test\n",
        "Now let's run some basic unit test to check if the function is returning the desire dictionary."
      ],
      "metadata": {
        "id": "c74AYYvPohVh"
      }
    },
    {
      "cell_type": "code",
      "source": [
        "# Unit tests\n",
        "assert get_predictions_dict(\"Hello my name is Sebastian. hello my brother's name is Santiago.\") == {('hello', 'my'): ['name', \"brother's\"],\n",
        "                                                                                                    ('my', 'name'): ['is'],\n",
        "                                                                                                    ('name', 'is'): ['sebastian', 'santiago'],\n",
        "                                                                                                    ('is', 'sebastian'): ['hello'],\n",
        "                                                                                                    ('sebastian', 'hello'): ['my'],\n",
        "                                                                                                    ('my', \"brother's\"): ['name'],\n",
        "                                                                                                    (\"brother's\", 'name'): ['is']}\n",
        "\n",
        "assert get_predictions_dict(\"I play football I play basketball I play softball but I love playing with my borther.\") == {('i', 'play'): ['football', 'basketball', 'softball'],\n",
        "                                                                                                                        ('play', 'football'): ['i'],\n",
        "                                                                                                                        ('football', 'i'): ['play'],\n",
        "                                                                                                                        ('play', 'basketball'): ['i'],\n",
        "                                                                                                                        ('basketball', 'i'): ['play'],\n",
        "                                                                                                                        ('play', 'softball'): ['but'],\n",
        "                                                                                                                        ('softball', 'but'): ['i'],\n",
        "                                                                                                                        ('but', 'i'): ['love'],\n",
        "                                                                                                                        ('i', 'love'): ['playing'],\n",
        "                                                                                                                        ('love', 'playing'): ['with'],\n",
        "                                                                                                                        ('playing', 'with'): ['my'],\n",
        "                                                                                                                        ('with', 'my'): ['borther']}\n"
      ],
      "metadata": {
        "id": "prAOQmuPogs2"
      },
      "execution_count": null,
      "outputs": []
    },
    {
      "cell_type": "markdown",
      "source": [
        "# Constructing the sentence\n",
        "Now that the dictionary function is working, another function is required to create the predicted sentence. This function should take as input the length of the sentence we want to create, the first two words the user want to use, and the word dictionary the other function generated. With the first two words the function should start a list called sentence where the next words will be appended. Then, create a 2-tupple word witht the first to words to start te first lookup. The a basic for loop in range of the length of the sentence the user wants to create, will go through each two words looking for the next word chosing it randomly in case there is more than one in the list. The append this word to the sentence list and update the two_words variable."
      ],
      "metadata": {
        "id": "lUACZm8eoiDK"
      }
    },
    {
      "cell_type": "code",
      "source": [
        "def n_predictions(n, two_words, word_dictionary):\n",
        "  \"\"\"Given a tupple with two words and a word dictionary, it returns n-times the next random word of a list of possible words.\"\"\"\n",
        "\n",
        "  sentence = [item for item in two_words.split()]\n",
        "  two_words = tuple(two_words.lower().split())\n",
        "\n",
        "  for i in range(n):\n",
        "    next_word = random.choice(word_dictionary.get(two_words, []))\n",
        "    sentence.append(next_word)\n",
        "    two_words = (two_words[1], next_word)\n",
        "\n",
        "  return sentence"
      ],
      "metadata": {
        "id": "IBPVjIBZoi5Y"
      },
      "execution_count": null,
      "outputs": []
    },
    {
      "cell_type": "markdown",
      "source": [
        "## Getting the text\n",
        "You should be wondering, where are we getting the text to run the get_predictions_dict() function?? I choose to make this project interactive with the user so he can use a topic of their interest to generate the dictionary of words. The easier way I found was to use Wikipedia because they have a big base data of many topics. The next funtion takes a topic that should be separated by '_' instead of spaces, insert it into the wikipedia link and then get the text using the Beatifulsoup library.  The only problem with this is that in wikipedia some words have numbers attached to them and this may generate weird words in the predicted sentence. I can't take out the numbers because they may be single values like dates or numbers that make sense to the sentence."
      ],
      "metadata": {
        "id": "L9er5Z9eopXZ"
      }
    },
    {
      "cell_type": "code",
      "source": [
        "def scrape_text_from_url(topic):\n",
        "    \"\"\"Scrape text data from a given topic in wikipedia.\"\"\"\n",
        "    try:\n",
        "        url = f'https://en.wikipedia.org/wiki/{topic}'\n",
        "        response = requests.get(url)\n",
        "\n",
        "        soup = BeautifulSoup(response.content, 'html.parser') # Chat gpt helped me with the try method and beautifulsoup module\n",
        "        text = soup.get_text()\n",
        "        return text\n",
        "\n",
        "    except requests.exceptions.RequestException as e:\n",
        "        print(\"There is no info of the topic please try again\")\n",
        "        return None"
      ],
      "metadata": {
        "id": "fyAjCTDhopzB"
      },
      "execution_count": null,
      "outputs": []
    },
    {
      "cell_type": "markdown",
      "source": [
        "## Main Program\n",
        "Now we need to make the main program. We have to get the data from the user in the correct type and syntax. We also have to include a try loop to except any errors in case the program can't generate any sentences."
      ],
      "metadata": {
        "id": "72y44alsoqSE"
      }
    },
    {
      "cell_type": "code",
      "source": [
        "def main():\n",
        "\n",
        "  # Open a loop to try to generate the predicted words or except the index error\n",
        "  while True:\n",
        "    print('Welcome to the predictive text generator. You will provide two words, a topic and the number of words you wnat me to generate. Then, you will know the predicted sentence.')\n",
        "\n",
        "    #Get the topic the user wants to use as data\n",
        "    topic = input('\\nPlease give only one the name of a person or one topic separated by _ (Example: Roger_Federer, Elon_Musk). This information must be available in wikipedia: ')\n",
        "\n",
        "    #Open a loop to make sure there are no spaces\n",
        "    while ' ' in topic:\n",
        "      topic = input('\\nPlease enter your choice separated by _ (Example: Roger_Federer, Elon_Musk): ')\n",
        "\n",
        "    #Get the data words dictionary\n",
        "    info_dict = get_predictions_dict(scrape_text_from_url(topic))\n",
        "\n",
        "    #Ask for the two words to start the predicted sentnce and the number of words\n",
        "    two_words = input('\\nNow give me the first two words of the predicted sentence (Now you can enter them with normal spaces): ')\n",
        "\n",
        "    #Open a try loop to make sure that the number provided is an interger\n",
        "    while True:\n",
        "      n = input('\\nPlease enter an integer number: ')\n",
        "      try:\n",
        "          n = int(n)\n",
        "          break\n",
        "      except ValueError:\n",
        "          print('\\nInvalid input. Please enter an integer number: ')\n",
        "\n",
        "    # Try to get the predicted words and print them with a space between them\n",
        "    try:\n",
        "      print('\\n')\n",
        "      print(' '.join(n_predictions(n, two_words, info_dict)))\n",
        "      break\n",
        "\n",
        "    except IndexError:\n",
        "      print(\"\\nIt's not possible to generate your sentence. The number of words chosen may be to many or we could match any words to the words provided. Please try again\\n\")"
      ],
      "metadata": {
        "id": "UYc2q5cmoqts"
      },
      "execution_count": null,
      "outputs": []
    },
    {
      "cell_type": "markdown",
      "source": [
        "Finally we call the program and we ask the user If they want to repeat the program and start again."
      ],
      "metadata": {
        "id": "MN9ZOfPFoxWO"
      }
    },
    {
      "cell_type": "code",
      "source": [
        "main()\n",
        "\n",
        "# Ask the user if he want to repeat the program\n",
        "repeat = input(\"\\nDo you want to generate another sentce? (Y/N)\").upper()\n",
        "if repeat == \"Y\":\n",
        "  print(\"\\n\")\n",
        "  main()\n",
        "else:\n",
        "  print(\"\\nThank you for using this program. Goodbye!\")"
      ],
      "metadata": {
        "id": "MeNzjGvioxsf"
      },
      "execution_count": null,
      "outputs": []
    }
  ]
}